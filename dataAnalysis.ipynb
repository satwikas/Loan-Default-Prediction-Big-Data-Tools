{
 "cells": [
  {
   "cell_type": "markdown",
   "metadata": {},
   "source": [
    "Setting up the environment and loading the data"
   ]
  },
  {
   "cell_type": "code",
   "execution_count": null,
   "metadata": {},
   "outputs": [
    {
     "name": "stdout",
     "output_type": "stream",
     "text": [
      "root\n",
      " |-- case_id: integer (nullable = true)\n",
      " |-- date_decision: date (nullable = true)\n",
      " |-- MONTH: integer (nullable = true)\n",
      " |-- WEEK_NUM: integer (nullable = true)\n",
      " |-- target: integer (nullable = true)\n",
      " |-- amtinstpaidbefduel24m_4187115A: double (nullable = true)\n",
      " |-- annuity_780A: double (nullable = true)\n",
      " |-- annuitynextmonth_57A: double (nullable = true)\n",
      " |-- avginstallast24m_3658937A: double (nullable = true)\n",
      " |-- avglnamtstart24m_4525187A: double (nullable = true)\n",
      " |-- avgoutstandbalancel6m_4187114A: double (nullable = true)\n",
      " |-- avgpmtlast12m_4525200A: double (nullable = true)\n",
      " |-- credamount_770A: double (nullable = true)\n",
      " |-- currdebt_22A: double (nullable = true)\n",
      " |-- currdebtcredtyperange_828A: double (nullable = true)\n",
      " |-- disbursedcredamount_1113A: double (nullable = true)\n",
      " |-- downpmt_116A: double (nullable = true)\n",
      " |-- inittransactionamount_650A: double (nullable = true)\n",
      " |-- lastapprcommoditycat_1041M: string (nullable = true)\n",
      " |-- lastapprcommoditytypec_5251766M: string (nullable = true)\n",
      " |-- lastapprcredamount_781A: double (nullable = true)\n",
      " |-- lastcancelreason_561M: string (nullable = true)\n",
      " |-- lastotherinc_902A: double (nullable = true)\n",
      " |-- lastotherlnsexpense_631A: double (nullable = true)\n",
      " |-- lastrejectcommoditycat_161M: string (nullable = true)\n",
      " |-- lastrejectcommodtypec_5251769M: string (nullable = true)\n",
      " |-- lastrejectcredamount_222A: double (nullable = true)\n",
      " |-- lastrejectreason_759M: string (nullable = true)\n",
      " |-- lastrejectreasonclient_4145040M: string (nullable = true)\n",
      " |-- maininc_215A: double (nullable = true)\n",
      " |-- maxannuity_159A: double (nullable = true)\n",
      " |-- maxannuity_4075009A: double (nullable = true)\n",
      " |-- maxdebt4_972A: double (nullable = true)\n",
      " |-- maxinstallast24m_3658928A: double (nullable = true)\n",
      " |-- maxlnamtstart6m_4525199A: double (nullable = true)\n",
      " |-- maxoutstandbalancel12m_4187113A: double (nullable = true)\n",
      " |-- maxpmtlast3m_4525190A: double (nullable = true)\n",
      " |-- previouscontdistrict_112M: string (nullable = true)\n",
      " |-- price_1097A: double (nullable = true)\n",
      " |-- sumoutstandtotal_3546847A: double (nullable = true)\n",
      " |-- sumoutstandtotalest_4493215A: double (nullable = true)\n",
      " |-- totaldebt_9A: double (nullable = true)\n",
      " |-- totalsettled_863A: double (nullable = true)\n",
      " |-- totinstallast1m_4525188A: double (nullable = true)\n",
      " |-- description_5085714M: string (nullable = true)\n",
      " |-- education_1103M: string (nullable = true)\n",
      " |-- education_88M: string (nullable = true)\n",
      " |-- maritalst_385M: string (nullable = true)\n",
      " |-- maritalst_893M: string (nullable = true)\n",
      " |-- pmtaverage_3A: double (nullable = true)\n",
      " |-- pmtaverage_4527227A: double (nullable = true)\n",
      " |-- pmtaverage_4955615A: double (nullable = true)\n",
      " |-- pmtssum_45A: double (nullable = true)\n",
      " |-- mainoccupationinc_384A_max: double (nullable = true)\n",
      " |-- mainoccupationinc_384A_any_selfemployed: boolean (nullable = true)\n",
      " |-- person_housetype: string (nullable = true)\n",
      " |-- pmts_pmtsoverdue_635A_max: double (nullable = true)\n",
      " |-- pmts_dpdvalue_108P_over31: boolean (nullable = true)\n",
      "\n",
      "+-------+-------------+------+--------+------+------------------------------+------------+--------------------+-------------------------+-------------------------+------------------------------+----------------------+---------------+------------+--------------------------+-------------------------+------------+--------------------------+--------------------------+-------------------------------+-----------------------+---------------------+-----------------+------------------------+---------------------------+------------------------------+-------------------------+---------------------+-------------------------------+------------+---------------+-------------------+-------------+-------------------------+------------------------+-------------------------------+---------------------+-------------------------+-----------+-------------------------+----------------------------+------------+-----------------+------------------------+--------------------+---------------+-------------+--------------+--------------+-------------+-------------------+-------------------+-----------+--------------------------+---------------------------------------+----------------+-------------------------+-------------------------+\n",
      "|case_id|date_decision| MONTH|WEEK_NUM|target|amtinstpaidbefduel24m_4187115A|annuity_780A|annuitynextmonth_57A|avginstallast24m_3658937A|avglnamtstart24m_4525187A|avgoutstandbalancel6m_4187114A|avgpmtlast12m_4525200A|credamount_770A|currdebt_22A|currdebtcredtyperange_828A|disbursedcredamount_1113A|downpmt_116A|inittransactionamount_650A|lastapprcommoditycat_1041M|lastapprcommoditytypec_5251766M|lastapprcredamount_781A|lastcancelreason_561M|lastotherinc_902A|lastotherlnsexpense_631A|lastrejectcommoditycat_161M|lastrejectcommodtypec_5251769M|lastrejectcredamount_222A|lastrejectreason_759M|lastrejectreasonclient_4145040M|maininc_215A|maxannuity_159A|maxannuity_4075009A|maxdebt4_972A|maxinstallast24m_3658928A|maxlnamtstart6m_4525199A|maxoutstandbalancel12m_4187113A|maxpmtlast3m_4525190A|previouscontdistrict_112M|price_1097A|sumoutstandtotal_3546847A|sumoutstandtotalest_4493215A|totaldebt_9A|totalsettled_863A|totinstallast1m_4525188A|description_5085714M|education_1103M|education_88M|maritalst_385M|maritalst_893M|pmtaverage_3A|pmtaverage_4527227A|pmtaverage_4955615A|pmtssum_45A|mainoccupationinc_384A_max|mainoccupationinc_384A_any_selfemployed|person_housetype|pmts_pmtsoverdue_635A_max|pmts_dpdvalue_108P_over31|\n",
      "+-------+-------------+------+--------+------+------------------------------+------------+--------------------+-------------------------+-------------------------+------------------------------+----------------------+---------------+------------+--------------------------+-------------------------+------------+--------------------------+--------------------------+-------------------------------+-----------------------+---------------------+-----------------+------------------------+---------------------------+------------------------------+-------------------------+---------------------+-------------------------------+------------+---------------+-------------------+-------------+-------------------------+------------------------+-------------------------------+---------------------+-------------------------+-----------+-------------------------+----------------------------+------------+-----------------+------------------------+--------------------+---------------+-------------+--------------+--------------+-------------+-------------------+-------------------+-----------+--------------------------+---------------------------------------+----------------+-------------------------+-------------------------+\n",
      "|      0|   2019-01-03|201901|       0|     0|                          NULL|      1917.6|                 0.0|                     NULL|                     NULL|                          NULL|                  NULL|        30000.0|         0.0|                       0.0|                  30000.0|         0.0|                      NULL|                  a55475b1|                       a55475b1|                   NULL|             a55475b1|             NULL|                    NULL|                   a55475b1|                      a55475b1|                     NULL|             a55475b1|                       a55475b1|        NULL|            0.0|               NULL|          0.0|                     NULL|                    NULL|                           NULL|                 NULL|                 a55475b1|       NULL|                     NULL|                        NULL|         0.0|              0.0|                    NULL|                NULL|           NULL|         NULL|          NULL|          NULL|         NULL|               NULL|               NULL|       NULL|                   10800.0|                                  false|            NULL|                     NULL|                     NULL|\n",
      "|      1|   2019-01-03|201901|       0|     0|                          NULL|      3134.0|                 0.0|                     NULL|                     NULL|                          NULL|                  NULL|        19999.8|         0.0|                       0.0|                  19999.8|         0.0|                      NULL|                  a55475b1|                       a55475b1|                   NULL|             a55475b1|             NULL|                    NULL|                   a55475b1|                      a55475b1|                     NULL|             a55475b1|                       a55475b1|        NULL|            0.0|               NULL|          0.0|                     NULL|                    NULL|                           NULL|                 NULL|                 a55475b1|       NULL|                     NULL|                        NULL|         0.0|              0.0|                    NULL|                NULL|           NULL|         NULL|          NULL|          NULL|         NULL|               NULL|               NULL|       NULL|                   10000.0|                                  false|            NULL|                     NULL|                     NULL|\n",
      "|      2|   2019-01-04|201901|       0|     0|                          NULL|      4937.0|                 0.0|                     NULL|                     NULL|                          NULL|                  NULL|        78000.0|         0.0|                       0.0|                  78000.0|         0.0|                      NULL|                  a55475b1|                       a55475b1|                   NULL|             a55475b1|             NULL|                    NULL|                   a55475b1|                      a55475b1|                  10000.0|             a55475b1|                       a55475b1|        NULL|            0.0|               NULL|          0.0|                     NULL|                    NULL|                           NULL|                 NULL|                 a55475b1|       NULL|                     NULL|                        NULL|         0.0|              0.0|                    NULL|                NULL|           NULL|         NULL|          NULL|          NULL|         NULL|               NULL|               NULL|       NULL|                   14000.0|                                  false|            NULL|                     NULL|                     NULL|\n",
      "|      3|   2019-01-03|201901|       0|     0|                          NULL|      4643.6|                 0.0|                     NULL|                     NULL|                          NULL|                  NULL|        40000.0|         0.0|                       0.0|                  40000.0|         0.0|                      NULL|                  a55475b1|                       a55475b1|                   NULL|          P94_109_143|             NULL|                    NULL|                   a55475b1|                      a55475b1|                  59999.8|          P94_109_143|                       a55475b1|        NULL|            0.0|               NULL|          0.0|                     NULL|                    NULL|                           NULL|                 NULL|                 a55475b1|       NULL|                     NULL|                        NULL|         0.0|              0.0|                    NULL|                NULL|           NULL|         NULL|          NULL|          NULL|         NULL|               NULL|               NULL|       NULL|                   10000.0|                                  false|            NULL|                     NULL|                     NULL|\n",
      "|      4|   2019-01-04|201901|       0|     1|                          NULL|      3390.2|                 0.0|                     NULL|                     NULL|                          NULL|                  NULL|        44000.0|         0.0|                       0.0|                  44000.0|         0.0|                      NULL|                  a55475b1|                       a55475b1|                   NULL|            P24_27_36|             NULL|                    NULL|                   a55475b1|                      a55475b1|                     NULL|             a55475b1|                       a55475b1|        NULL|            0.0|               NULL|          0.0|                     NULL|                    NULL|                           NULL|                 NULL|                 a55475b1|       NULL|                     NULL|                        NULL|         0.0|              0.0|                    NULL|                NULL|           NULL|         NULL|          NULL|          NULL|         NULL|               NULL|               NULL|       NULL|                   24000.0|                                  false|            NULL|                     NULL|                     NULL|\n",
      "+-------+-------------+------+--------+------+------------------------------+------------+--------------------+-------------------------+-------------------------+------------------------------+----------------------+---------------+------------+--------------------------+-------------------------+------------+--------------------------+--------------------------+-------------------------------+-----------------------+---------------------+-----------------+------------------------+---------------------------+------------------------------+-------------------------+---------------------+-------------------------------+------------+---------------+-------------------+-------------+-------------------------+------------------------+-------------------------------+---------------------+-------------------------+-----------+-------------------------+----------------------------+------------+-----------------+------------------------+--------------------+---------------+-------------+--------------+--------------+-------------+-------------------+-------------------+-----------+--------------------------+---------------------------------------+----------------+-------------------------+-------------------------+\n",
      "only showing top 5 rows\n",
      "\n"
     ]
    }
   ],
   "source": [
    "from pyspark.sql import SparkSession\n",
    "from pyspark.sql.functions import col, mean, stddev, count, countDistinct, expr\n",
    "\n",
    "# Initialize a Spark session\n",
    "spark = SparkSession.builder.appName(\"BigDataAnalysis\").getOrCreate()\n",
    "\n",
    "# Load the dataset\n",
    "file_path = \"sampled_data.csv\"  # Replace with your file path\n",
    "df = spark.read.csv(file_path, header=True, inferSchema=True)\n",
    "\n",
    "# Display the schema and a sample of the data\n",
    "df.printSchema()\n",
    "df.show(5)\n"
   ]
  },
  {
   "cell_type": "markdown",
   "metadata": {},
   "source": [
    "Step 2: Data Cleaning\n",
    "Identify Missing Data"
   ]
  },
  {
   "cell_type": "code",
   "execution_count": 2,
   "metadata": {},
   "outputs": [
    {
     "name": "stdout",
     "output_type": "stream",
     "text": [
      "+-------+-------------+-----+--------+------+------------------------------+------------+--------------------+-------------------------+-------------------------+------------------------------+----------------------+---------------+------------+--------------------------+-------------------------+------------+--------------------------+--------------------------+-------------------------------+-----------------------+---------------------+-----------------+------------------------+---------------------------+------------------------------+-------------------------+---------------------+-------------------------------+------------+---------------+-------------------+-------------+-------------------------+------------------------+-------------------------------+---------------------+-------------------------+-----------+-------------------------+----------------------------+------------+-----------------+------------------------+--------------------+---------------+-------------+--------------+--------------+-------------+-------------------+-------------------+-----------+--------------------------+---------------------------------------+----------------+-------------------------+-------------------------+\n",
      "|case_id|date_decision|MONTH|WEEK_NUM|target|amtinstpaidbefduel24m_4187115A|annuity_780A|annuitynextmonth_57A|avginstallast24m_3658937A|avglnamtstart24m_4525187A|avgoutstandbalancel6m_4187114A|avgpmtlast12m_4525200A|credamount_770A|currdebt_22A|currdebtcredtyperange_828A|disbursedcredamount_1113A|downpmt_116A|inittransactionamount_650A|lastapprcommoditycat_1041M|lastapprcommoditytypec_5251766M|lastapprcredamount_781A|lastcancelreason_561M|lastotherinc_902A|lastotherlnsexpense_631A|lastrejectcommoditycat_161M|lastrejectcommodtypec_5251769M|lastrejectcredamount_222A|lastrejectreason_759M|lastrejectreasonclient_4145040M|maininc_215A|maxannuity_159A|maxannuity_4075009A|maxdebt4_972A|maxinstallast24m_3658928A|maxlnamtstart6m_4525199A|maxoutstandbalancel12m_4187113A|maxpmtlast3m_4525190A|previouscontdistrict_112M|price_1097A|sumoutstandtotal_3546847A|sumoutstandtotalest_4493215A|totaldebt_9A|totalsettled_863A|totinstallast1m_4525188A|description_5085714M|education_1103M|education_88M|maritalst_385M|maritalst_893M|pmtaverage_3A|pmtaverage_4527227A|pmtaverage_4955615A|pmtssum_45A|mainoccupationinc_384A_max|mainoccupationinc_384A_any_selfemployed|person_housetype|pmts_pmtsoverdue_635A_max|pmts_dpdvalue_108P_over31|\n",
      "+-------+-------------+-----+--------+------+------------------------------+------------+--------------------+-------------------------+-------------------------+------------------------------+----------------------+---------------+------------+--------------------------+-------------------------+------------+--------------------------+--------------------------+-------------------------------+-----------------------+---------------------+-----------------+------------------------+---------------------------+------------------------------+-------------------------+---------------------+-------------------------------+------------+---------------+-------------------+-------------+-------------------------+------------------------+-------------------------------+---------------------+-------------------------+-----------+-------------------------+----------------------------+------------+-----------------+------------------------+--------------------+---------------+-------------+--------------+--------------+-------------+-------------------+-------------------+-----------+--------------------------+---------------------------------------+----------------+-------------------------+-------------------------+\n",
      "|      0|            0|    0|       0|     0|                        561124|           0|                   4|                   624875|                  1364150|                        841181|               1026987|              0|           4|                         4|                        0|           0|                   1334357|                         0|                              0|                 442041|                    0|          1523603|                 1523601|                          0|                             0|                   769046|                    0|                              0|      511255|         306019|            1450726|       306019|                   624875|                 1032856|                         766958|              1129330|                        0|     223240|                   445320|                      840646|           3|                4|                 1174211|               26183|          26183|        26183|         26183|         26183|      1383070|            1411681|            1454814|     954021|                         0|                                      0|         1425841|                  1490244|                  1490244|\n",
      "+-------+-------------+-----+--------+------+------------------------------+------------+--------------------+-------------------------+-------------------------+------------------------------+----------------------+---------------+------------+--------------------------+-------------------------+------------+--------------------------+--------------------------+-------------------------------+-----------------------+---------------------+-----------------+------------------------+---------------------------+------------------------------+-------------------------+---------------------+-------------------------------+------------+---------------+-------------------+-------------+-------------------------+------------------------+-------------------------------+---------------------+-------------------------+-----------+-------------------------+----------------------------+------------+-----------------+------------------------+--------------------+---------------+-------------+--------------+--------------+-------------+-------------------+-------------------+-----------+--------------------------+---------------------------------------+----------------+-------------------------+-------------------------+\n",
      "\n"
     ]
    }
   ],
   "source": [
    "from pyspark.sql.functions import sum\n",
    "\n",
    "# Count missing values for each column\n",
    "missing_values = df.select([(col(c).isNull().cast(\"int\")).alias(c) for c in df.columns])\n",
    "missing_summary = missing_values.select([(sum(c).alias(c)) for c in df.columns])\n",
    "missing_summary.show()\n"
   ]
  },
  {
   "cell_type": "markdown",
   "metadata": {},
   "source": [
    "Remove Columns with Excessive Missing Data"
   ]
  },
  {
   "cell_type": "code",
   "execution_count": 3,
   "metadata": {},
   "outputs": [
    {
     "name": "stdout",
     "output_type": "stream",
     "text": [
      "root\n",
      " |-- case_id: integer (nullable = true)\n",
      " |-- date_decision: date (nullable = true)\n",
      " |-- MONTH: integer (nullable = true)\n",
      " |-- WEEK_NUM: integer (nullable = true)\n",
      " |-- target: integer (nullable = true)\n",
      " |-- amtinstpaidbefduel24m_4187115A: double (nullable = true)\n",
      " |-- annuity_780A: double (nullable = true)\n",
      " |-- annuitynextmonth_57A: double (nullable = true)\n",
      " |-- avginstallast24m_3658937A: double (nullable = true)\n",
      " |-- credamount_770A: double (nullable = true)\n",
      " |-- currdebt_22A: double (nullable = true)\n",
      " |-- currdebtcredtyperange_828A: double (nullable = true)\n",
      " |-- disbursedcredamount_1113A: double (nullable = true)\n",
      " |-- downpmt_116A: double (nullable = true)\n",
      " |-- lastapprcommoditycat_1041M: string (nullable = true)\n",
      " |-- lastapprcommoditytypec_5251766M: string (nullable = true)\n",
      " |-- lastapprcredamount_781A: double (nullable = true)\n",
      " |-- lastcancelreason_561M: string (nullable = true)\n",
      " |-- lastrejectcommoditycat_161M: string (nullable = true)\n",
      " |-- lastrejectcommodtypec_5251769M: string (nullable = true)\n",
      " |-- lastrejectreason_759M: string (nullable = true)\n",
      " |-- lastrejectreasonclient_4145040M: string (nullable = true)\n",
      " |-- maininc_215A: double (nullable = true)\n",
      " |-- maxannuity_159A: double (nullable = true)\n",
      " |-- maxdebt4_972A: double (nullable = true)\n",
      " |-- maxinstallast24m_3658928A: double (nullable = true)\n",
      " |-- previouscontdistrict_112M: string (nullable = true)\n",
      " |-- price_1097A: double (nullable = true)\n",
      " |-- sumoutstandtotal_3546847A: double (nullable = true)\n",
      " |-- totaldebt_9A: double (nullable = true)\n",
      " |-- totalsettled_863A: double (nullable = true)\n",
      " |-- description_5085714M: string (nullable = true)\n",
      " |-- education_1103M: string (nullable = true)\n",
      " |-- education_88M: string (nullable = true)\n",
      " |-- maritalst_385M: string (nullable = true)\n",
      " |-- maritalst_893M: string (nullable = true)\n",
      " |-- mainoccupationinc_384A_max: double (nullable = true)\n",
      " |-- mainoccupationinc_384A_any_selfemployed: boolean (nullable = true)\n",
      "\n"
     ]
    },
    {
     "data": {
      "text/plain": [
       "1526659"
      ]
     },
     "execution_count": 3,
     "metadata": {},
     "output_type": "execute_result"
    }
   ],
   "source": [
    "# Drop columns where more than 50% of the data is missing\n",
    "threshold = 0.5 * df.count()  # Adjust threshold as needed\n",
    "columns_to_keep = [c for c in df.columns if df.filter(col(c).isNotNull()).count() > threshold]\n",
    "df_reduced = df.select(columns_to_keep)\n",
    "\n",
    "# Display the updated schema and row count\n",
    "df_reduced.printSchema()\n",
    "df_reduced.count()\n"
   ]
  },
  {
   "cell_type": "markdown",
   "metadata": {},
   "source": [
    "Impute Missing Values for Numerical Columns"
   ]
  },
  {
   "cell_type": "code",
   "execution_count": 4,
   "metadata": {},
   "outputs": [
    {
     "name": "stdout",
     "output_type": "stream",
     "text": [
      "+-------+-----+--------+------+------------------------------+------------+--------------------+-------------------------+---------------+------------+--------------------------+-------------------------+------------+-----------------------+------------+---------------+-------------+-------------------------+-----------+-------------------------+------------+-----------------+--------------------------+\n",
      "|case_id|MONTH|WEEK_NUM|target|amtinstpaidbefduel24m_4187115A|annuity_780A|annuitynextmonth_57A|avginstallast24m_3658937A|credamount_770A|currdebt_22A|currdebtcredtyperange_828A|disbursedcredamount_1113A|downpmt_116A|lastapprcredamount_781A|maininc_215A|maxannuity_159A|maxdebt4_972A|maxinstallast24m_3658928A|price_1097A|sumoutstandtotal_3546847A|totaldebt_9A|totalsettled_863A|mainoccupationinc_384A_max|\n",
      "+-------+-----+--------+------+------------------------------+------------+--------------------+-------------------------+---------------+------------+--------------------------+-------------------------+------------+-----------------------+------------+---------------+-------------+-------------------------+-----------+-------------------------+------------+-----------------+--------------------------+\n",
      "|      0|    0|       0|     0|                             0|           0|                   0|                        0|              0|           0|                         0|                        0|           0|                      0|           0|              0|            0|                        0|          0|                        0|           0|                0|                         0|\n",
      "+-------+-----+--------+------+------------------------------+------------+--------------------+-------------------------+---------------+------------+--------------------------+-------------------------+------------+-----------------------+------------+---------------+-------------+-------------------------+-----------+-------------------------+------------+-----------------+--------------------------+\n",
      "\n"
     ]
    }
   ],
   "source": [
    "from pyspark.ml.feature import Imputer\n",
    "\n",
    "# Define columns for imputation\n",
    "numerical_columns = [c for c in df_reduced.columns if dict(df_reduced.dtypes)[c] in ('int', 'double')]\n",
    "\n",
    "# Configure imputer to fill missing values with the mean\n",
    "imputer = Imputer(inputCols=numerical_columns, outputCols=numerical_columns).setStrategy(\"mean\")\n",
    "df_imputed = imputer.fit(df_reduced).transform(df_reduced)\n",
    "\n",
    "# Verify missing values are handled\n",
    "df_imputed.select([(col(c).isNull().cast(\"int\")).alias(c) for c in numerical_columns]).agg(\n",
    "    *[(sum(c)).alias(c) for c in numerical_columns]\n",
    ").show()\n"
   ]
  },
  {
   "cell_type": "markdown",
   "metadata": {},
   "source": [
    "Handle Missing Values in Categorical Columns"
   ]
  },
  {
   "cell_type": "code",
   "execution_count": 6,
   "metadata": {},
   "outputs": [
    {
     "name": "stdout",
     "output_type": "stream",
     "text": [
      "+-------+-------------+------+--------+------+------------------------------+------------+--------------------+-------------------------+---------------+------------+--------------------------+-------------------------+------------+--------------------------+-------------------------------+-----------------------+---------------------+---------------------------+------------------------------+---------------------+-------------------------------+-----------------+---------------+-------------+-------------------------+-------------------------+-----------------+-------------------------+------------+-----------------+--------------------+---------------+-------------+--------------+--------------+--------------------------+---------------------------------------+\n",
      "|case_id|date_decision| MONTH|WEEK_NUM|target|amtinstpaidbefduel24m_4187115A|annuity_780A|annuitynextmonth_57A|avginstallast24m_3658937A|credamount_770A|currdebt_22A|currdebtcredtyperange_828A|disbursedcredamount_1113A|downpmt_116A|lastapprcommoditycat_1041M|lastapprcommoditytypec_5251766M|lastapprcredamount_781A|lastcancelreason_561M|lastrejectcommoditycat_161M|lastrejectcommodtypec_5251769M|lastrejectreason_759M|lastrejectreasonclient_4145040M|     maininc_215A|maxannuity_159A|maxdebt4_972A|maxinstallast24m_3658928A|previouscontdistrict_112M|      price_1097A|sumoutstandtotal_3546847A|totaldebt_9A|totalsettled_863A|description_5085714M|education_1103M|education_88M|maritalst_385M|maritalst_893M|mainoccupationinc_384A_max|mainoccupationinc_384A_any_selfemployed|\n",
      "+-------+-------------+------+--------+------+------------------------------+------------+--------------------+-------------------------+---------------+------------+--------------------------+-------------------------+------------+--------------------------+-------------------------------+-----------------------+---------------------+---------------------------+------------------------------+---------------------+-------------------------------+-----------------+---------------+-------------+-------------------------+-------------------------+-----------------+-------------------------+------------+-----------------+--------------------+---------------+-------------+--------------+--------------+--------------------------+---------------------------------------+\n",
      "|      0|   2019-01-03|201901|       0|     0|            55958.330288712736|      1917.6|                 0.0|       5401.5876364690785|        30000.0|         0.0|                       0.0|                  30000.0|         0.0|                  a55475b1|                       a55475b1|      36890.34942477628|             a55475b1|                   a55475b1|                      a55475b1|             a55475b1|                       a55475b1|49485.65191944939|            0.0|          0.0|       15394.110512730294|                 a55475b1|34464.97229746463|       27681.266362727212|         0.0|              0.0|             Unknown|        Unknown|      Unknown|       Unknown|       Unknown|                   10800.0|                                  false|\n",
      "|      1|   2019-01-03|201901|       0|     0|            55958.330288712736|      3134.0|                 0.0|       5401.5876364690785|        19999.8|         0.0|                       0.0|                  19999.8|         0.0|                  a55475b1|                       a55475b1|      36890.34942477628|             a55475b1|                   a55475b1|                      a55475b1|             a55475b1|                       a55475b1|49485.65191944939|            0.0|          0.0|       15394.110512730294|                 a55475b1|34464.97229746463|       27681.266362727212|         0.0|              0.0|             Unknown|        Unknown|      Unknown|       Unknown|       Unknown|                   10000.0|                                  false|\n",
      "|      2|   2019-01-04|201901|       0|     0|            55958.330288712736|      4937.0|                 0.0|       5401.5876364690785|        78000.0|         0.0|                       0.0|                  78000.0|         0.0|                  a55475b1|                       a55475b1|      36890.34942477628|             a55475b1|                   a55475b1|                      a55475b1|             a55475b1|                       a55475b1|49485.65191944939|            0.0|          0.0|       15394.110512730294|                 a55475b1|34464.97229746463|       27681.266362727212|         0.0|              0.0|             Unknown|        Unknown|      Unknown|       Unknown|       Unknown|                   14000.0|                                  false|\n",
      "|      3|   2019-01-03|201901|       0|     0|            55958.330288712736|      4643.6|                 0.0|       5401.5876364690785|        40000.0|         0.0|                       0.0|                  40000.0|         0.0|                  a55475b1|                       a55475b1|      36890.34942477628|          P94_109_143|                   a55475b1|                      a55475b1|          P94_109_143|                       a55475b1|49485.65191944939|            0.0|          0.0|       15394.110512730294|                 a55475b1|34464.97229746463|       27681.266362727212|         0.0|              0.0|             Unknown|        Unknown|      Unknown|       Unknown|       Unknown|                   10000.0|                                  false|\n",
      "|      4|   2019-01-04|201901|       0|     1|            55958.330288712736|      3390.2|                 0.0|       5401.5876364690785|        44000.0|         0.0|                       0.0|                  44000.0|         0.0|                  a55475b1|                       a55475b1|      36890.34942477628|            P24_27_36|                   a55475b1|                      a55475b1|             a55475b1|                       a55475b1|49485.65191944939|            0.0|          0.0|       15394.110512730294|                 a55475b1|34464.97229746463|       27681.266362727212|         0.0|              0.0|             Unknown|        Unknown|      Unknown|       Unknown|       Unknown|                   24000.0|                                  false|\n",
      "+-------+-------------+------+--------+------+------------------------------+------------+--------------------+-------------------------+---------------+------------+--------------------------+-------------------------+------------+--------------------------+-------------------------------+-----------------------+---------------------+---------------------------+------------------------------+---------------------+-------------------------------+-----------------+---------------+-------------+-------------------------+-------------------------+-----------------+-------------------------+------------+-----------------+--------------------+---------------+-------------+--------------+--------------+--------------------------+---------------------------------------+\n",
      "only showing top 5 rows\n",
      "\n"
     ]
    }
   ],
   "source": [
    "# Replace nulls in categorical columns with a placeholder (e.g., 'Unknown')\n",
    "categorical_columns = [c for c in df_reduced.columns if dict(df_reduced.dtypes)[c] == 'string']\n",
    "\n",
    "# Use DataFrame's na.fill method to handle missing values\n",
    "for col_name in categorical_columns:\n",
    "    df_imputed = df_imputed.na.fill(value=\"Unknown\", subset=[col_name])\n",
    "\n",
    "# Display a sample of the cleaned data\n",
    "df_imputed.show(5)\n"
   ]
  },
  {
   "cell_type": "markdown",
   "metadata": {},
   "source": [
    "Step 3: Descriptive Statistics"
   ]
  },
  {
   "cell_type": "code",
   "execution_count": 9,
   "metadata": {},
   "outputs": [
    {
     "name": "stdout",
     "output_type": "stream",
     "text": [
      "Numerical Columns: ['case_id', 'MONTH', 'WEEK_NUM', 'target', 'amtinstpaidbefduel24m_4187115A', 'annuity_780A', 'annuitynextmonth_57A', 'avginstallast24m_3658937A', 'credamount_770A', 'currdebt_22A', 'currdebtcredtyperange_828A', 'disbursedcredamount_1113A', 'downpmt_116A', 'lastapprcredamount_781A', 'maininc_215A', 'maxannuity_159A', 'maxdebt4_972A', 'maxinstallast24m_3658928A', 'price_1097A', 'sumoutstandtotal_3546847A', 'totaldebt_9A', 'totalsettled_863A', 'mainoccupationinc_384A_max']\n",
      "Column 'your_numerical_column' is not numerical or does not exist in the DataFrame.\n"
     ]
    }
   ],
   "source": [
    "# Verify numerical columns in the DataFrame\n",
    "numerical_columns = [c for c, dtype in df_imputed.dtypes if dtype in (\"int\", \"double\")]\n",
    "print(\"Numerical Columns:\", numerical_columns)\n",
    "\n",
    "# Replace 'numerical_column' with one of the valid numerical columns\n",
    "target_column = \"your_numerical_column\"  # Replace with a valid numerical column name from the above list\n",
    "\n",
    "# Calculate the median for the selected column\n",
    "if target_column in numerical_columns:\n",
    "    median_value = df_imputed.approxQuantile(target_column, [0.5], 0)  # 0 indicates exact quantile computation\n",
    "    print(f\"Median of {target_column}: {median_value[0]}\")\n",
    "else:\n",
    "    print(f\"Column '{target_column}' is not numerical or does not exist in the DataFrame.\")\n"
   ]
  },
  {
   "cell_type": "markdown",
   "metadata": {},
   "source": [
    "Step 4: Data Exploration and Visualizations\n",
    "Histograms and Box Plots"
   ]
  },
  {
   "cell_type": "code",
   "execution_count": 18,
   "metadata": {},
   "outputs": [],
   "source": [
    "# from pyspark.sql.functions import col, floor\n",
    "# import matplotlib.pyplot as plt\n",
    "\n",
    "# # Specify a numerical column to use\n",
    "# numerical_column = \"amtinstpaidbefduel24m_4187115A\"  # Replace with your desired numerical column\n",
    "\n",
    "# # Check if the column exists in the DataFrame\n",
    "# if numerical_column in [col_name for col_name, col_type in df_imputed.dtypes if col_type in (\"int\", \"double\")]:\n",
    "#     # Create bins (adjust bin size as needed)\n",
    "#     bin_size = 1000  # Adjust the bin size based on the range of the data\n",
    "#     binned_df = df_imputed.withColumn(\"bin\", (floor(col(numerical_column) / bin_size) * bin_size))\n",
    "\n",
    "#     # Count rows per bin\n",
    "#     aggregated_df = binned_df.groupBy(\"bin\").count().orderBy(\"bin\")\n",
    "\n",
    "#     # Convert aggregated data to pandas for visualization\n",
    "#     pandas_aggregated_df = aggregated_df.toPandas()\n",
    "\n",
    "#     # Plot histogram from aggregated data\n",
    "#     plt.bar(pandas_aggregated_df['bin'], pandas_aggregated_df['count'], width=bin_size)\n",
    "#     plt.title(f\"Histogram for {numerical_column}\")\n",
    "#     plt.xlabel(\"Bins\")\n",
    "#     plt.ylabel(\"Frequency\")\n",
    "#     plt.show()\n",
    "# else:\n",
    "#     print(f\"The column '{numerical_column}' is not a valid numerical column.\")\n"
   ]
  },
  {
   "cell_type": "code",
   "execution_count": null,
   "metadata": {},
   "outputs": [],
   "source": []
  }
 ],
 "metadata": {
  "kernelspec": {
   "display_name": "Python 3",
   "language": "python",
   "name": "python3"
  },
  "language_info": {
   "codemirror_mode": {
    "name": "ipython",
    "version": 3
   },
   "file_extension": ".py",
   "mimetype": "text/x-python",
   "name": "python",
   "nbconvert_exporter": "python",
   "pygments_lexer": "ipython3",
   "version": "3.12.4"
  }
 },
 "nbformat": 4,
 "nbformat_minor": 2
}
